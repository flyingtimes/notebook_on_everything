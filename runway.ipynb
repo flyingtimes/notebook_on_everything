{
 "cells": [
  {
   "cell_type": "code",
   "execution_count": null,
   "metadata": {},
   "outputs": [],
   "source": [
    "首先可以到https://www.z2u.com/ 上面寻找共享的runway账号，大概1天1美金的收费，比官方还是便宜，而且是unlimited账号\n",
    "\n"
   ]
  }
 ],
 "metadata": {
  "language_info": {
   "name": "python"
  }
 },
 "nbformat": 4,
 "nbformat_minor": 2
}
