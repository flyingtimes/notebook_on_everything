{
 "cells": [
  {
   "cell_type": "markdown",
   "metadata": {},
   "source": [
    "# 我的想法是，通过gemma3获取图片内容，并将英文内容翻译成中文\n"
   ]
  },
  {
   "cell_type": "code",
   "execution_count": null,
   "metadata": {},
   "outputs": [],
   "source": [
    "from openai import OpenAI\n",
    "#import os\n",
    "import base64\n",
    "import datetime\n",
    "from datetime import datetime\n",
    "def send_chat_request(model, messages, temperature=0.7, max_tokens=-1, stream=False):\n",
    "    # Set environment variables to disable proxy\n",
    "    #os.environ[\"HTTP_PROXY\"] = \"\"\n",
    "    #os.environ[\"HTTPS_PROXY\"] = \"\"\n",
    "    #os.environ[\"NO_PROXY\"] = \"127.0.0.1,localhost\"\n",
    "    \n",
    "    # Create the OpenAI client\n",
    "    client = OpenAI(\n",
    "        api_key='your-api-key-here', \n",
    "        base_url='http://ollama.21cnai.com:30091/v1'\n",
    "    )\n",
    "    \n",
    "    response = client.chat.completions.create(\n",
    "        model=model,\n",
    "        messages=messages,\n",
    "        temperature=temperature,\n",
    "        max_tokens=max_tokens if max_tokens > 0 else None,\n",
    "        stream=stream\n",
    "    )\n",
    "    return response.choices[0].message.content\n",
    "\n",
    "\n",
    "\n",
    "if __name__ == \"__main__\":\n",
    "    # 假设本地图片文件名为 'local_image.png'\n",
    "    with open('a1.png', 'rb') as image_file:\n",
    "        encoded_string = base64.b64encode(image_file.read()).decode('utf-8')\n",
    "    image_url = f'data:image/png;base64,{encoded_string}'\n",
    "    messages = [\n",
    "        {\n",
    "            \"role\": \"user\",\n",
    "            \"content\": [\n",
    "                {\n",
    "                    \"type\": \"text\",\n",
    "                    \"text\": \"请将图片中的文字翻译成中文，并将返回内容放在<result></result>标签对中\"\n",
    "                },\n",
    "                {\n",
    "                    \"type\": \"image_url\",\n",
    "                    \"image_url\": {\n",
    "                        \"url\": image_url\n",
    "                    }\n",
    "                }\n",
    "            ]\n",
    "        }\n",
    "    ]\n",
    "    try:\n",
    "        print(datetime.now())\n",
    "        response = send_chat_request(\n",
    "            model=\"gemma3:27b\",\n",
    "            messages=messages,\n",
    "            temperature=0.7,\n",
    "            max_tokens=-1,\n",
    "            stream=False\n",
    "        )\n",
    "        print(response)\n",
    "        print(datetime.now())\n",
    "    except Exception as e:\n",
    "        print(f\"Error occurred: {e}\")\n"
   ]
  }
 ],
 "metadata": {
  "language_info": {
   "name": "python"
  }
 },
 "nbformat": 4,
 "nbformat_minor": 2
}
